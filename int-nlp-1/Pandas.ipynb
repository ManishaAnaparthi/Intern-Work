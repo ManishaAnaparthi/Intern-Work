{
  "nbformat": 4,
  "nbformat_minor": 0,
  "metadata": {
    "colab": {
      "name": "Maneesha - Pandas.ipynb",
      "provenance": []
    },
    "kernelspec": {
      "name": "python3",
      "display_name": "Python 3"
    },
    "language_info": {
      "name": "python"
    }
  },
  "cells": [
    {
      "cell_type": "markdown",
      "metadata": {
        "id": "NPRGFxqqqxcl"
      },
      "source": [
        "### **Putting Some Pandas In Your Python**"
      ]
    },
    {
      "cell_type": "markdown",
      "metadata": {
        "id": "PxkPURF0rQ6c"
      },
      "source": [
        "Pandas in Python is a package that is written for data analysis and manipulation. Pandas offer various operations and data structures to perform numerical data manipulations and time series. Pandas is an open-source library that is built over Numpy libraries. Pandas library is known for its high productivity and high performance. Pandas is popular because it makes importing and analyzing data much easier.\n",
        "\n",
        "\n",
        "Pandas programs can be written on any plain text editor like notepad, notepad++, or anything of that sort and saved with a .py extension. To begin with, writing Pandas Codes and performing various intriguing and useful operations, one must have Python installed on their System. This can be done by following the step by step instructions provided below"
      ]
    },
    {
      "cell_type": "markdown",
      "metadata": {
        "id": "34kx7GNSrxbv"
      },
      "source": [
        "**Installing Pandas**"
      ]
    },
    {
      "cell_type": "code",
      "metadata": {
        "colab": {
          "base_uri": "https://localhost:8080/"
        },
        "id": "BxCqOhssqGtM",
        "outputId": "e5d962bc-bf6b-4ec3-b2cc-e9c10a652e93"
      },
      "source": [
        "! pip install pandas\n",
        "\n",
        "import pandas as pd\n",
        "import numpy as np"
      ],
      "execution_count": null,
      "outputs": [
        {
          "output_type": "stream",
          "text": [
            "Requirement already satisfied: pandas in /usr/local/lib/python3.7/dist-packages (1.1.5)\n",
            "Requirement already satisfied: pytz>=2017.2 in /usr/local/lib/python3.7/dist-packages (from pandas) (2018.9)\n",
            "Requirement already satisfied: python-dateutil>=2.7.3 in /usr/local/lib/python3.7/dist-packages (from pandas) (2.8.1)\n",
            "Requirement already satisfied: numpy>=1.15.4 in /usr/local/lib/python3.7/dist-packages (from pandas) (1.19.5)\n",
            "Requirement already satisfied: six>=1.5 in /usr/local/lib/python3.7/dist-packages (from python-dateutil>=2.7.3->pandas) (1.15.0)\n"
          ],
          "name": "stdout"
        }
      ]
    },
    {
      "cell_type": "markdown",
      "metadata": {
        "id": "Zhjbf2Gxr2kE"
      },
      "source": [
        "## **Pandas Series Data Structure**\n",
        "\n",
        "\n",
        "Pandas Series is a one-dimensional labeled array capable of holding data of any type (integer, string, float, python objects, etc.). The axis labels are collectively called index. Pandas Series is nothing but a column in an excel sheet. Labels need not be unique but must be a hashable type\n",
        "\n"
      ]
    },
    {
      "cell_type": "code",
      "metadata": {
        "colab": {
          "base_uri": "https://localhost:8080/"
        },
        "id": "23fe8egdrQaC",
        "outputId": "2f55950c-e56f-4d7f-af60-8dcebb2e24fb"
      },
      "source": [
        "# pd.Series(data,index)\n",
        "# index-> Unique, Hashable, same length as data. By default np.arange(n)\n",
        "\n",
        "s = pd.Series([1, 2, 3, 4])\n",
        "\n",
        "print(s)"
      ],
      "execution_count": null,
      "outputs": [
        {
          "output_type": "stream",
          "text": [
            "0    1\n",
            "1    2\n",
            "2    3\n",
            "3    4\n",
            "dtype: int64\n"
          ],
          "name": "stdout"
        }
      ]
    },
    {
      "cell_type": "markdown",
      "metadata": {
        "id": "aQpM6V3XsK27"
      },
      "source": [
        "## **Creating Series from Numpy ndarray**\n",
        "\n",
        "Creating a series from array without index.\n",
        "\n",
        "In this case as no index is passed, so by default index will be range(n) where n is array length.\n"
      ]
    },
    {
      "cell_type": "code",
      "metadata": {
        "colab": {
          "base_uri": "https://localhost:8080/"
        },
        "id": "icYNDnbvsGvS",
        "outputId": "c91604b0-665c-4e54-ee1d-d2625d292f3f"
      },
      "source": [
        "\n",
        "data = np.array([10, 20, 30, 40, 50])\n",
        "\n",
        "s = pd.Series(data)\n",
        "\n",
        "print(s)"
      ],
      "execution_count": null,
      "outputs": [
        {
          "output_type": "stream",
          "text": [
            "0    10\n",
            "1    20\n",
            "2    30\n",
            "3    40\n",
            "4    50\n",
            "dtype: int64\n"
          ],
          "name": "stdout"
        }
      ]
    },
    {
      "cell_type": "markdown",
      "metadata": {
        "id": "vKa3p2bIskpb"
      },
      "source": [
        "## **Data accessing using Index**\n",
        "\n",
        "Indexing in pandas means simply selecting particular rows and columns of data from a DataFrame. Indexing could mean selecting all the rows and some of the columns, some of the rows and all of the columns, or some of each of the rows and columns. Indexing can also be known as Subset Selection.\n",
        "\n",
        "Pandas Indexing using [ ], .loc[], .iloc[ ], .ix[ ]\n"
      ]
    },
    {
      "cell_type": "code",
      "metadata": {
        "colab": {
          "base_uri": "https://localhost:8080/"
        },
        "id": "zDlgOs2JsfxZ",
        "outputId": "ce611762-fd38-4681-918d-dc7d68944692"
      },
      "source": [
        "s = pd.Series([1, 2, 3, 4, 5])\n",
        "\n",
        "print(s[2])\n",
        "\n",
        "print(s[1:])\n",
        "\n",
        "print(s[[1, 4]])"
      ],
      "execution_count": null,
      "outputs": [
        {
          "output_type": "stream",
          "text": [
            "3\n",
            "1    2\n",
            "2    3\n",
            "3    4\n",
            "4    5\n",
            "dtype: int64\n",
            "1    2\n",
            "4    5\n",
            "dtype: int64\n"
          ],
          "name": "stdout"
        }
      ]
    },
    {
      "cell_type": "code",
      "metadata": {
        "colab": {
          "base_uri": "https://localhost:8080/"
        },
        "id": "TidUHR56sxEk",
        "outputId": "61e5ce79-f1db-4d40-ad4c-143c632c8f9e"
      },
      "source": [
        "s = pd.Series([1, 2, 3, 4, 5], index=['a', 'b', 'c', 'd', 'e'])\n",
        "\n",
        "print(s)"
      ],
      "execution_count": null,
      "outputs": [
        {
          "output_type": "stream",
          "text": [
            "a    1\n",
            "b    2\n",
            "c    3\n",
            "d    4\n",
            "e    5\n",
            "dtype: int64\n"
          ],
          "name": "stdout"
        }
      ]
    },
    {
      "cell_type": "code",
      "metadata": {
        "colab": {
          "base_uri": "https://localhost:8080/"
        },
        "id": "fNGkf94ks279",
        "outputId": "cf522224-a915-45e0-bcfb-395c19ccac04"
      },
      "source": [
        "# Retrieve multiple elements\n",
        "\n",
        "print(s[['a', 'b', 'e']])"
      ],
      "execution_count": null,
      "outputs": [
        {
          "output_type": "stream",
          "text": [
            "a    1\n",
            "b    2\n",
            "e    5\n",
            "dtype: int64\n"
          ],
          "name": "stdout"
        }
      ]
    },
    {
      "cell_type": "markdown",
      "metadata": {
        "id": "bUfYudM5s_2k"
      },
      "source": [
        "# **Pandas DataFrame**\n",
        "### **Creating DataFrame using Dictionary**\n",
        "\n",
        "Pandas DataFrame is a 2-dimensional labeled data structure with columns of potentially different types. It is generally the most commonly used pandas object. \n",
        "Pandas DataFrame can be created in multiple ways. Let’s discuss different ways to create a DataFrame one by one."
      ]
    },
    {
      "cell_type": "code",
      "metadata": {
        "colab": {
          "base_uri": "https://localhost:8080/",
          "height": 166
        },
        "id": "cKqB6ThTs7nF",
        "outputId": "758b85bd-5840-4da4-8ced-5e4066a610a2"
      },
      "source": [
        "data = {'Name':['Maneesha', 'Anaparthi', 'Rgukt', 'cse'], 'Count':[10,10,1,360]}\n",
        "df = pd.DataFrame(data)\n",
        "df"
      ],
      "execution_count": null,
      "outputs": [
        {
          "output_type": "execute_result",
          "data": {
            "text/html": [
              "<div>\n",
              "<style scoped>\n",
              "    .dataframe tbody tr th:only-of-type {\n",
              "        vertical-align: middle;\n",
              "    }\n",
              "\n",
              "    .dataframe tbody tr th {\n",
              "        vertical-align: top;\n",
              "    }\n",
              "\n",
              "    .dataframe thead th {\n",
              "        text-align: right;\n",
              "    }\n",
              "</style>\n",
              "<table border=\"1\" class=\"dataframe\">\n",
              "  <thead>\n",
              "    <tr style=\"text-align: right;\">\n",
              "      <th></th>\n",
              "      <th>Name</th>\n",
              "      <th>Count</th>\n",
              "    </tr>\n",
              "  </thead>\n",
              "  <tbody>\n",
              "    <tr>\n",
              "      <th>0</th>\n",
              "      <td>Maneesha</td>\n",
              "      <td>10</td>\n",
              "    </tr>\n",
              "    <tr>\n",
              "      <th>1</th>\n",
              "      <td>Anaparthi</td>\n",
              "      <td>10</td>\n",
              "    </tr>\n",
              "    <tr>\n",
              "      <th>2</th>\n",
              "      <td>Rgukt</td>\n",
              "      <td>1</td>\n",
              "    </tr>\n",
              "    <tr>\n",
              "      <th>3</th>\n",
              "      <td>cse</td>\n",
              "      <td>360</td>\n",
              "    </tr>\n",
              "  </tbody>\n",
              "</table>\n",
              "</div>"
            ],
            "text/plain": [
              "        Name  Count\n",
              "0   Maneesha     10\n",
              "1  Anaparthi     10\n",
              "2      Rgukt      1\n",
              "3        cse    360"
            ]
          },
          "metadata": {
            "tags": []
          },
          "execution_count": 8
        }
      ]
    },
    {
      "cell_type": "code",
      "metadata": {
        "colab": {
          "base_uri": "https://localhost:8080/",
          "height": 166
        },
        "id": "6TsOxD9OtUtV",
        "outputId": "aa4bd37a-a22c-434f-c506-bd1b2984255d"
      },
      "source": [
        "#creating indexed dataframe\n",
        "data = {'Name':['Maneesha', 'Anaparthi', 'Rgukt', 'cse'], 'Count':[10,10,1,360]}\n",
        "df = pd.DataFrame(data,index = ['index-1','index-2','index-3','index-4'])\n",
        "df"
      ],
      "execution_count": null,
      "outputs": [
        {
          "output_type": "execute_result",
          "data": {
            "text/html": [
              "<div>\n",
              "<style scoped>\n",
              "    .dataframe tbody tr th:only-of-type {\n",
              "        vertical-align: middle;\n",
              "    }\n",
              "\n",
              "    .dataframe tbody tr th {\n",
              "        vertical-align: top;\n",
              "    }\n",
              "\n",
              "    .dataframe thead th {\n",
              "        text-align: right;\n",
              "    }\n",
              "</style>\n",
              "<table border=\"1\" class=\"dataframe\">\n",
              "  <thead>\n",
              "    <tr style=\"text-align: right;\">\n",
              "      <th></th>\n",
              "      <th>Name</th>\n",
              "      <th>Count</th>\n",
              "    </tr>\n",
              "  </thead>\n",
              "  <tbody>\n",
              "    <tr>\n",
              "      <th>index-1</th>\n",
              "      <td>Maneesha</td>\n",
              "      <td>10</td>\n",
              "    </tr>\n",
              "    <tr>\n",
              "      <th>index-2</th>\n",
              "      <td>Anaparthi</td>\n",
              "      <td>10</td>\n",
              "    </tr>\n",
              "    <tr>\n",
              "      <th>index-3</th>\n",
              "      <td>Rgukt</td>\n",
              "      <td>1</td>\n",
              "    </tr>\n",
              "    <tr>\n",
              "      <th>index-4</th>\n",
              "      <td>cse</td>\n",
              "      <td>360</td>\n",
              "    </tr>\n",
              "  </tbody>\n",
              "</table>\n",
              "</div>"
            ],
            "text/plain": [
              "              Name  Count\n",
              "index-1   Maneesha     10\n",
              "index-2  Anaparthi     10\n",
              "index-3      Rgukt      1\n",
              "index-4        cse    360"
            ]
          },
          "metadata": {
            "tags": []
          },
          "execution_count": 10
        }
      ]
    },
    {
      "cell_type": "code",
      "metadata": {
        "colab": {
          "base_uri": "https://localhost:8080/",
          "height": 166
        },
        "id": "JocIxh7Wtn2a",
        "outputId": "713f2fa2-7be6-41a3-bcc2-e7688eb2c86e"
      },
      "source": [
        "#creating indexed nan dataframe\n",
        "data = {'Name':['Maneesha', 'Anaparthi', np.nan, 'cse'], 'Count':[10,np.nan,1,360]}\n",
        "df = pd.DataFrame(data,index = ['index-1','index-2','index-3','index-4'])\n",
        "df"
      ],
      "execution_count": null,
      "outputs": [
        {
          "output_type": "execute_result",
          "data": {
            "text/html": [
              "<div>\n",
              "<style scoped>\n",
              "    .dataframe tbody tr th:only-of-type {\n",
              "        vertical-align: middle;\n",
              "    }\n",
              "\n",
              "    .dataframe tbody tr th {\n",
              "        vertical-align: top;\n",
              "    }\n",
              "\n",
              "    .dataframe thead th {\n",
              "        text-align: right;\n",
              "    }\n",
              "</style>\n",
              "<table border=\"1\" class=\"dataframe\">\n",
              "  <thead>\n",
              "    <tr style=\"text-align: right;\">\n",
              "      <th></th>\n",
              "      <th>Name</th>\n",
              "      <th>Count</th>\n",
              "    </tr>\n",
              "  </thead>\n",
              "  <tbody>\n",
              "    <tr>\n",
              "      <th>index-1</th>\n",
              "      <td>Maneesha</td>\n",
              "      <td>10.0</td>\n",
              "    </tr>\n",
              "    <tr>\n",
              "      <th>index-2</th>\n",
              "      <td>Anaparthi</td>\n",
              "      <td>NaN</td>\n",
              "    </tr>\n",
              "    <tr>\n",
              "      <th>index-3</th>\n",
              "      <td>NaN</td>\n",
              "      <td>1.0</td>\n",
              "    </tr>\n",
              "    <tr>\n",
              "      <th>index-4</th>\n",
              "      <td>cse</td>\n",
              "      <td>360.0</td>\n",
              "    </tr>\n",
              "  </tbody>\n",
              "</table>\n",
              "</div>"
            ],
            "text/plain": [
              "              Name  Count\n",
              "index-1   Maneesha   10.0\n",
              "index-2  Anaparthi    NaN\n",
              "index-3        NaN    1.0\n",
              "index-4        cse  360.0"
            ]
          },
          "metadata": {
            "tags": []
          },
          "execution_count": 12
        }
      ]
    },
    {
      "cell_type": "markdown",
      "metadata": {
        "id": "NPe3JUS8uLMD"
      },
      "source": [
        "## **dataset.info()**\n",
        "\n",
        "The info() function is used to print a concise summary of a DataFrame. This method prints information about a DataFrame including the index dtype and column dtypes, non-null values and memory usage. Whether to print the full summary. By default, the setting in pandas"
      ]
    },
    {
      "cell_type": "code",
      "metadata": {
        "colab": {
          "base_uri": "https://localhost:8080/"
        },
        "id": "p8hrL0nYuC5K",
        "outputId": "c52cb427-faf4-47b8-8f44-8e12ba558121"
      },
      "source": [
        "df.info()"
      ],
      "execution_count": null,
      "outputs": [
        {
          "output_type": "stream",
          "text": [
            "<class 'pandas.core.frame.DataFrame'>\n",
            "Index: 4 entries, index-1 to index-4\n",
            "Data columns (total 2 columns):\n",
            " #   Column  Non-Null Count  Dtype  \n",
            "---  ------  --------------  -----  \n",
            " 0   Name    3 non-null      object \n",
            " 1   Count   3 non-null      float64\n",
            "dtypes: float64(1), object(1)\n",
            "memory usage: 256.0+ bytes\n"
          ],
          "name": "stdout"
        }
      ]
    },
    {
      "cell_type": "markdown",
      "metadata": {
        "id": "Y0pQD7f6uZQO"
      },
      "source": [
        "## **Creating DataFrame using Tuple**\n",
        "\n",
        "To convert a Python tuple to DataFrame, use the list of tuples and pass that list to a pd. DataFrame() constructor, and it will return a DataFrame. Pandas DataFrame is a two-dimensional, size-mutable, heterogeneous tabular data structure that contains rows and columns"
      ]
    },
    {
      "cell_type": "code",
      "metadata": {
        "colab": {
          "base_uri": "https://localhost:8080/",
          "height": 195
        },
        "id": "PdIjJSK0uRNx",
        "outputId": "1ce0f963-e0a2-4840-9153-f3b2906d6809"
      },
      "source": [
        "data = [('1/7/2021', 13, 6, 'Rain'),\n",
        "       ('2/7/2021', 11, 7, 'Fog'),\n",
        "       ('3/7/2021', 12, 8, 'Sunny'),\n",
        "       ('4/7/2021', 8, 5, 'Snow'),\n",
        "       ('5/7/2021', 9, 6, 'Rain')]\n",
        "df = pd.DataFrame(data,\n",
        "                  columns=['Day', 'Temperature', 'WindSpeed', 'Event'])\n",
        "\n",
        "df"
      ],
      "execution_count": null,
      "outputs": [
        {
          "output_type": "execute_result",
          "data": {
            "text/html": [
              "<div>\n",
              "<style scoped>\n",
              "    .dataframe tbody tr th:only-of-type {\n",
              "        vertical-align: middle;\n",
              "    }\n",
              "\n",
              "    .dataframe tbody tr th {\n",
              "        vertical-align: top;\n",
              "    }\n",
              "\n",
              "    .dataframe thead th {\n",
              "        text-align: right;\n",
              "    }\n",
              "</style>\n",
              "<table border=\"1\" class=\"dataframe\">\n",
              "  <thead>\n",
              "    <tr style=\"text-align: right;\">\n",
              "      <th></th>\n",
              "      <th>Day</th>\n",
              "      <th>Temperature</th>\n",
              "      <th>WindSpeed</th>\n",
              "      <th>Event</th>\n",
              "    </tr>\n",
              "  </thead>\n",
              "  <tbody>\n",
              "    <tr>\n",
              "      <th>0</th>\n",
              "      <td>1/7/2021</td>\n",
              "      <td>13</td>\n",
              "      <td>6</td>\n",
              "      <td>Rain</td>\n",
              "    </tr>\n",
              "    <tr>\n",
              "      <th>1</th>\n",
              "      <td>2/7/2021</td>\n",
              "      <td>11</td>\n",
              "      <td>7</td>\n",
              "      <td>Fog</td>\n",
              "    </tr>\n",
              "    <tr>\n",
              "      <th>2</th>\n",
              "      <td>3/7/2021</td>\n",
              "      <td>12</td>\n",
              "      <td>8</td>\n",
              "      <td>Sunny</td>\n",
              "    </tr>\n",
              "    <tr>\n",
              "      <th>3</th>\n",
              "      <td>4/7/2021</td>\n",
              "      <td>8</td>\n",
              "      <td>5</td>\n",
              "      <td>Snow</td>\n",
              "    </tr>\n",
              "    <tr>\n",
              "      <th>4</th>\n",
              "      <td>5/7/2021</td>\n",
              "      <td>9</td>\n",
              "      <td>6</td>\n",
              "      <td>Rain</td>\n",
              "    </tr>\n",
              "  </tbody>\n",
              "</table>\n",
              "</div>"
            ],
            "text/plain": [
              "        Day  Temperature  WindSpeed  Event\n",
              "0  1/7/2021           13          6   Rain\n",
              "1  2/7/2021           11          7    Fog\n",
              "2  3/7/2021           12          8  Sunny\n",
              "3  4/7/2021            8          5   Snow\n",
              "4  5/7/2021            9          6   Rain"
            ]
          },
          "metadata": {
            "tags": []
          },
          "execution_count": 16
        }
      ]
    },
    {
      "cell_type": "markdown",
      "metadata": {
        "id": "EiramlUgu0hr"
      },
      "source": [
        "### **DataFrame Basic Functionality**\n",
        "\n",
        "A Series is a one-dimensional labeled array capable of holding any data type (integers, strings, floating point numbers, Python objects, etc.). It has to be remembered that unlike Python lists, a Series will always contain data of the same type."
      ]
    },
    {
      "cell_type": "code",
      "metadata": {
        "colab": {
          "base_uri": "https://localhost:8080/",
          "height": 254
        },
        "id": "O6k3z1hnuetF",
        "outputId": "773d872a-82e7-43e5-9a08-bf0f294309b8"
      },
      "source": [
        "# Create Dictionary of Series\n",
        "dict = {'Name':pd.Series(['A', 'B', 'C', 'D', 'E', 'F', 'G']),\n",
        "       'Age':pd.Series([25,26,25,35,23,33,31]),\n",
        "       'Rating':pd.Series([4.23,4.1,3.4,5,2.9,4.7,3.1])}\n",
        "\n",
        "df = pd.DataFrame(dict)\n",
        "df"
      ],
      "execution_count": null,
      "outputs": [
        {
          "output_type": "execute_result",
          "data": {
            "text/html": [
              "<div>\n",
              "<style scoped>\n",
              "    .dataframe tbody tr th:only-of-type {\n",
              "        vertical-align: middle;\n",
              "    }\n",
              "\n",
              "    .dataframe tbody tr th {\n",
              "        vertical-align: top;\n",
              "    }\n",
              "\n",
              "    .dataframe thead th {\n",
              "        text-align: right;\n",
              "    }\n",
              "</style>\n",
              "<table border=\"1\" class=\"dataframe\">\n",
              "  <thead>\n",
              "    <tr style=\"text-align: right;\">\n",
              "      <th></th>\n",
              "      <th>Name</th>\n",
              "      <th>Age</th>\n",
              "      <th>Rating</th>\n",
              "    </tr>\n",
              "  </thead>\n",
              "  <tbody>\n",
              "    <tr>\n",
              "      <th>0</th>\n",
              "      <td>A</td>\n",
              "      <td>25</td>\n",
              "      <td>4.23</td>\n",
              "    </tr>\n",
              "    <tr>\n",
              "      <th>1</th>\n",
              "      <td>B</td>\n",
              "      <td>26</td>\n",
              "      <td>4.10</td>\n",
              "    </tr>\n",
              "    <tr>\n",
              "      <th>2</th>\n",
              "      <td>C</td>\n",
              "      <td>25</td>\n",
              "      <td>3.40</td>\n",
              "    </tr>\n",
              "    <tr>\n",
              "      <th>3</th>\n",
              "      <td>D</td>\n",
              "      <td>35</td>\n",
              "      <td>5.00</td>\n",
              "    </tr>\n",
              "    <tr>\n",
              "      <th>4</th>\n",
              "      <td>E</td>\n",
              "      <td>23</td>\n",
              "      <td>2.90</td>\n",
              "    </tr>\n",
              "    <tr>\n",
              "      <th>5</th>\n",
              "      <td>F</td>\n",
              "      <td>33</td>\n",
              "      <td>4.70</td>\n",
              "    </tr>\n",
              "    <tr>\n",
              "      <th>6</th>\n",
              "      <td>G</td>\n",
              "      <td>31</td>\n",
              "      <td>3.10</td>\n",
              "    </tr>\n",
              "  </tbody>\n",
              "</table>\n",
              "</div>"
            ],
            "text/plain": [
              "  Name  Age  Rating\n",
              "0    A   25    4.23\n",
              "1    B   26    4.10\n",
              "2    C   25    3.40\n",
              "3    D   35    5.00\n",
              "4    E   23    2.90\n",
              "5    F   33    4.70\n",
              "6    G   31    3.10"
            ]
          },
          "metadata": {
            "tags": []
          },
          "execution_count": 17
        }
      ]
    },
    {
      "cell_type": "markdown",
      "metadata": {
        "id": "JDcJYnHZvSoD"
      },
      "source": [
        "## **dataset.columns**\n",
        "\n",
        "Pandas DataFrame is a two-dimensional size-mutable, potentially heterogeneous tabular data structure with labeled axes (rows and columns). Arithmetic operations align on both row and column labels. It can be thought of as a dict-like container for Series objects. This is the primary data structure of the Pandas"
      ]
    },
    {
      "cell_type": "code",
      "metadata": {
        "colab": {
          "base_uri": "https://localhost:8080/"
        },
        "id": "j4_XYiFMvJeT",
        "outputId": "0c93459d-54bb-4701-8a56-a32ea65751cb"
      },
      "source": [
        "df.columns"
      ],
      "execution_count": null,
      "outputs": [
        {
          "output_type": "execute_result",
          "data": {
            "text/plain": [
              "Index(['Name', 'Age', 'Rating'], dtype='object')"
            ]
          },
          "metadata": {
            "tags": []
          },
          "execution_count": 18
        }
      ]
    },
    {
      "cell_type": "markdown",
      "metadata": {
        "id": "liPOUnZkvflJ"
      },
      "source": [
        "## **dataset.T**\n",
        "\n",
        "Pandas DataFrame is a two-dimensional size-mutable, potentially heterogeneous tabular data structure with labeled axes (rows and columns). Arithmetic operations align on both row and column labels. It can be thought of as a dict-like container for Series objects. This is the primary data structure of the Pandas.\n",
        "\n",
        "Pandas DataFrame.transpose() function transpose index and columns of the dataframe. It reflect the DataFrame over its main diagonal by writing rows as columns and vice-versa."
      ]
    },
    {
      "cell_type": "code",
      "metadata": {
        "colab": {
          "base_uri": "https://localhost:8080/",
          "height": 136
        },
        "id": "7S2sR0PXvYUg",
        "outputId": "265ce073-d83f-47a9-b2ef-e39ac34af0ce"
      },
      "source": [
        "\n",
        "# Transpose-> returns transpose of DataFrame\n",
        "df.T"
      ],
      "execution_count": null,
      "outputs": [
        {
          "output_type": "execute_result",
          "data": {
            "text/html": [
              "<div>\n",
              "<style scoped>\n",
              "    .dataframe tbody tr th:only-of-type {\n",
              "        vertical-align: middle;\n",
              "    }\n",
              "\n",
              "    .dataframe tbody tr th {\n",
              "        vertical-align: top;\n",
              "    }\n",
              "\n",
              "    .dataframe thead th {\n",
              "        text-align: right;\n",
              "    }\n",
              "</style>\n",
              "<table border=\"1\" class=\"dataframe\">\n",
              "  <thead>\n",
              "    <tr style=\"text-align: right;\">\n",
              "      <th></th>\n",
              "      <th>0</th>\n",
              "      <th>1</th>\n",
              "      <th>2</th>\n",
              "      <th>3</th>\n",
              "      <th>4</th>\n",
              "      <th>5</th>\n",
              "      <th>6</th>\n",
              "    </tr>\n",
              "  </thead>\n",
              "  <tbody>\n",
              "    <tr>\n",
              "      <th>Name</th>\n",
              "      <td>A</td>\n",
              "      <td>B</td>\n",
              "      <td>C</td>\n",
              "      <td>D</td>\n",
              "      <td>E</td>\n",
              "      <td>F</td>\n",
              "      <td>G</td>\n",
              "    </tr>\n",
              "    <tr>\n",
              "      <th>Age</th>\n",
              "      <td>25</td>\n",
              "      <td>26</td>\n",
              "      <td>25</td>\n",
              "      <td>35</td>\n",
              "      <td>23</td>\n",
              "      <td>33</td>\n",
              "      <td>31</td>\n",
              "    </tr>\n",
              "    <tr>\n",
              "      <th>Rating</th>\n",
              "      <td>4.23</td>\n",
              "      <td>4.1</td>\n",
              "      <td>3.4</td>\n",
              "      <td>5</td>\n",
              "      <td>2.9</td>\n",
              "      <td>4.7</td>\n",
              "      <td>3.1</td>\n",
              "    </tr>\n",
              "  </tbody>\n",
              "</table>\n",
              "</div>"
            ],
            "text/plain": [
              "           0    1    2   3    4    5    6\n",
              "Name       A    B    C   D    E    F    G\n",
              "Age       25   26   25  35   23   33   31\n",
              "Rating  4.23  4.1  3.4   5  2.9  4.7  3.1"
            ]
          },
          "metadata": {
            "tags": []
          },
          "execution_count": 19
        }
      ]
    },
    {
      "cell_type": "code",
      "metadata": {
        "colab": {
          "base_uri": "https://localhost:8080/"
        },
        "id": "F-4yMspyvoJP",
        "outputId": "eeaca41c-ff28-40f9-c755-373df17863d3"
      },
      "source": [
        "# dtypes-> return datatype of each column\n",
        "\n",
        "df.dtypes"
      ],
      "execution_count": null,
      "outputs": [
        {
          "output_type": "execute_result",
          "data": {
            "text/plain": [
              "Name       object\n",
              "Age         int64\n",
              "Rating    float64\n",
              "dtype: object"
            ]
          },
          "metadata": {
            "tags": []
          },
          "execution_count": 20
        }
      ]
    },
    {
      "cell_type": "code",
      "metadata": {
        "colab": {
          "base_uri": "https://localhost:8080/"
        },
        "id": "gUfukVKJvvb-",
        "outputId": "8eae8104-d131-4e51-8ae3-18714c98444e"
      },
      "source": [
        "# shape-> returns tuple representing dimensionallity\n",
        "\n",
        "df.shape"
      ],
      "execution_count": null,
      "outputs": [
        {
          "output_type": "execute_result",
          "data": {
            "text/plain": [
              "(7, 3)"
            ]
          },
          "metadata": {
            "tags": []
          },
          "execution_count": 21
        }
      ]
    },
    {
      "cell_type": "code",
      "metadata": {
        "colab": {
          "base_uri": "https://localhost:8080/"
        },
        "id": "y0TYiRZ-vw5K",
        "outputId": "c73aa699-183f-4ce9-d17a-57a9ac9fa874"
      },
      "source": [
        "\n",
        "# Axes-> returns list of row axis labels and column axis labels\n",
        "\n",
        "df.axes"
      ],
      "execution_count": null,
      "outputs": [
        {
          "output_type": "execute_result",
          "data": {
            "text/plain": [
              "[RangeIndex(start=0, stop=7, step=1),\n",
              " Index(['Name', 'Age', 'Rating'], dtype='object')]"
            ]
          },
          "metadata": {
            "tags": []
          },
          "execution_count": 22
        }
      ]
    },
    {
      "cell_type": "code",
      "metadata": {
        "colab": {
          "base_uri": "https://localhost:8080/"
        },
        "id": "t7eKJ_OLvyuh",
        "outputId": "3ac4c0d0-c7e7-4a0e-d153-fe90842533f3"
      },
      "source": [
        "# Data types of each column\n",
        "\n",
        "df.info()"
      ],
      "execution_count": null,
      "outputs": [
        {
          "output_type": "stream",
          "text": [
            "<class 'pandas.core.frame.DataFrame'>\n",
            "RangeIndex: 7 entries, 0 to 6\n",
            "Data columns (total 3 columns):\n",
            " #   Column  Non-Null Count  Dtype  \n",
            "---  ------  --------------  -----  \n",
            " 0   Name    7 non-null      object \n",
            " 1   Age     7 non-null      int64  \n",
            " 2   Rating  7 non-null      float64\n",
            "dtypes: float64(1), int64(1), object(1)\n",
            "memory usage: 296.0+ bytes\n"
          ],
          "name": "stdout"
        }
      ]
    },
    {
      "cell_type": "code",
      "metadata": {
        "colab": {
          "base_uri": "https://localhost:8080/"
        },
        "id": "cS4GerCTv05J",
        "outputId": "a6437133-106b-4586-8811-0e89f5f05fbb"
      },
      "source": [
        "# values-> returns actual data as ndarray\n",
        "\n",
        "df.values"
      ],
      "execution_count": null,
      "outputs": [
        {
          "output_type": "execute_result",
          "data": {
            "text/plain": [
              "array([['A', 25, 4.23],\n",
              "       ['B', 26, 4.1],\n",
              "       ['C', 25, 3.4],\n",
              "       ['D', 35, 5.0],\n",
              "       ['E', 23, 2.9],\n",
              "       ['F', 33, 4.7],\n",
              "       ['G', 31, 3.1]], dtype=object)"
            ]
          },
          "metadata": {
            "tags": []
          },
          "execution_count": 24
        }
      ]
    },
    {
      "cell_type": "code",
      "metadata": {
        "colab": {
          "base_uri": "https://localhost:8080/",
          "height": 195
        },
        "id": "ugISaSzZv2kB",
        "outputId": "cf614020-365a-4044-dd5b-5aa0c1f72714"
      },
      "source": [
        "# head-> by default head returns first 5 rows\n",
        "\n",
        "df.head()"
      ],
      "execution_count": null,
      "outputs": [
        {
          "output_type": "execute_result",
          "data": {
            "text/html": [
              "<div>\n",
              "<style scoped>\n",
              "    .dataframe tbody tr th:only-of-type {\n",
              "        vertical-align: middle;\n",
              "    }\n",
              "\n",
              "    .dataframe tbody tr th {\n",
              "        vertical-align: top;\n",
              "    }\n",
              "\n",
              "    .dataframe thead th {\n",
              "        text-align: right;\n",
              "    }\n",
              "</style>\n",
              "<table border=\"1\" class=\"dataframe\">\n",
              "  <thead>\n",
              "    <tr style=\"text-align: right;\">\n",
              "      <th></th>\n",
              "      <th>Name</th>\n",
              "      <th>Age</th>\n",
              "      <th>Rating</th>\n",
              "    </tr>\n",
              "  </thead>\n",
              "  <tbody>\n",
              "    <tr>\n",
              "      <th>0</th>\n",
              "      <td>A</td>\n",
              "      <td>25</td>\n",
              "      <td>4.23</td>\n",
              "    </tr>\n",
              "    <tr>\n",
              "      <th>1</th>\n",
              "      <td>B</td>\n",
              "      <td>26</td>\n",
              "      <td>4.10</td>\n",
              "    </tr>\n",
              "    <tr>\n",
              "      <th>2</th>\n",
              "      <td>C</td>\n",
              "      <td>25</td>\n",
              "      <td>3.40</td>\n",
              "    </tr>\n",
              "    <tr>\n",
              "      <th>3</th>\n",
              "      <td>D</td>\n",
              "      <td>35</td>\n",
              "      <td>5.00</td>\n",
              "    </tr>\n",
              "    <tr>\n",
              "      <th>4</th>\n",
              "      <td>E</td>\n",
              "      <td>23</td>\n",
              "      <td>2.90</td>\n",
              "    </tr>\n",
              "  </tbody>\n",
              "</table>\n",
              "</div>"
            ],
            "text/plain": [
              "  Name  Age  Rating\n",
              "0    A   25    4.23\n",
              "1    B   26    4.10\n",
              "2    C   25    3.40\n",
              "3    D   35    5.00\n",
              "4    E   23    2.90"
            ]
          },
          "metadata": {
            "tags": []
          },
          "execution_count": 25
        }
      ]
    },
    {
      "cell_type": "code",
      "metadata": {
        "colab": {
          "base_uri": "https://localhost:8080/",
          "height": 195
        },
        "id": "VZfiqvAvv4C1",
        "outputId": "f4ef24bf-1a7d-493c-e0da-470e2cad7f12"
      },
      "source": [
        "\n",
        "# tail-> by default tail returns last 5 rows\n",
        "\n",
        "df.tail()"
      ],
      "execution_count": null,
      "outputs": [
        {
          "output_type": "execute_result",
          "data": {
            "text/html": [
              "<div>\n",
              "<style scoped>\n",
              "    .dataframe tbody tr th:only-of-type {\n",
              "        vertical-align: middle;\n",
              "    }\n",
              "\n",
              "    .dataframe tbody tr th {\n",
              "        vertical-align: top;\n",
              "    }\n",
              "\n",
              "    .dataframe thead th {\n",
              "        text-align: right;\n",
              "    }\n",
              "</style>\n",
              "<table border=\"1\" class=\"dataframe\">\n",
              "  <thead>\n",
              "    <tr style=\"text-align: right;\">\n",
              "      <th></th>\n",
              "      <th>Name</th>\n",
              "      <th>Age</th>\n",
              "      <th>Rating</th>\n",
              "    </tr>\n",
              "  </thead>\n",
              "  <tbody>\n",
              "    <tr>\n",
              "      <th>2</th>\n",
              "      <td>C</td>\n",
              "      <td>25</td>\n",
              "      <td>3.4</td>\n",
              "    </tr>\n",
              "    <tr>\n",
              "      <th>3</th>\n",
              "      <td>D</td>\n",
              "      <td>35</td>\n",
              "      <td>5.0</td>\n",
              "    </tr>\n",
              "    <tr>\n",
              "      <th>4</th>\n",
              "      <td>E</td>\n",
              "      <td>23</td>\n",
              "      <td>2.9</td>\n",
              "    </tr>\n",
              "    <tr>\n",
              "      <th>5</th>\n",
              "      <td>F</td>\n",
              "      <td>33</td>\n",
              "      <td>4.7</td>\n",
              "    </tr>\n",
              "    <tr>\n",
              "      <th>6</th>\n",
              "      <td>G</td>\n",
              "      <td>31</td>\n",
              "      <td>3.1</td>\n",
              "    </tr>\n",
              "  </tbody>\n",
              "</table>\n",
              "</div>"
            ],
            "text/plain": [
              "  Name  Age  Rating\n",
              "2    C   25     3.4\n",
              "3    D   35     5.0\n",
              "4    E   23     2.9\n",
              "5    F   33     4.7\n",
              "6    G   31     3.1"
            ]
          },
          "metadata": {
            "tags": []
          },
          "execution_count": 26
        }
      ]
    },
    {
      "cell_type": "markdown",
      "metadata": {
        "id": "s8XddRzCv8bS"
      },
      "source": [
        "\n",
        "## **Statistics**"
      ]
    },
    {
      "cell_type": "code",
      "metadata": {
        "colab": {
          "base_uri": "https://localhost:8080/"
        },
        "id": "kbd47Ew5v6ez",
        "outputId": "681b986e-384f-43a4-dfe7-16fb4a3fbf44"
      },
      "source": [
        "# sum()-> returns the sum of values for requested axis. by default axis = 0\n",
        "\n",
        "df.sum()"
      ],
      "execution_count": null,
      "outputs": [
        {
          "output_type": "execute_result",
          "data": {
            "text/plain": [
              "Name      ABCDEFG\n",
              "Age           198\n",
              "Rating      27.43\n",
              "dtype: object"
            ]
          },
          "metadata": {
            "tags": []
          },
          "execution_count": 27
        }
      ]
    },
    {
      "cell_type": "code",
      "metadata": {
        "colab": {
          "base_uri": "https://localhost:8080/"
        },
        "id": "hFqx49DZwBlj",
        "outputId": "14573916-1f49-44ea-f007-4a78abfce95e"
      },
      "source": [
        "# axis = 1 -> row wise sum\n",
        "\n",
        "print(df.sum(1))"
      ],
      "execution_count": null,
      "outputs": [
        {
          "output_type": "stream",
          "text": [
            "0    29.23\n",
            "1    30.10\n",
            "2    28.40\n",
            "3    40.00\n",
            "4    25.90\n",
            "5    37.70\n",
            "6    34.10\n",
            "dtype: float64\n"
          ],
          "name": "stdout"
        }
      ]
    },
    {
      "cell_type": "code",
      "metadata": {
        "colab": {
          "base_uri": "https://localhost:8080/"
        },
        "id": "obRDjrChwDUP",
        "outputId": "2d79f380-3117-489f-c179-0af7260bd06b"
      },
      "source": [
        "\n",
        "# mean()\n",
        "\n",
        "print(df.mean())"
      ],
      "execution_count": null,
      "outputs": [
        {
          "output_type": "stream",
          "text": [
            "Age       28.285714\n",
            "Rating     3.918571\n",
            "dtype: float64\n"
          ],
          "name": "stdout"
        }
      ]
    },
    {
      "cell_type": "code",
      "metadata": {
        "colab": {
          "base_uri": "https://localhost:8080/"
        },
        "id": "fBJoUrQ6wFNA",
        "outputId": "e7a0000b-bd5b-42bf-932f-1f4c6ea76eb6"
      },
      "source": [
        "# std()\n",
        "\n",
        "print(df.std())"
      ],
      "execution_count": null,
      "outputs": [
        {
          "output_type": "stream",
          "text": [
            "Age       4.644505\n",
            "Rating    0.804828\n",
            "dtype: float64\n"
          ],
          "name": "stdout"
        }
      ]
    },
    {
      "cell_type": "code",
      "metadata": {
        "colab": {
          "base_uri": "https://localhost:8080/"
        },
        "id": "wGEYNnrxwGxZ",
        "outputId": "924e9bff-1c1b-4092-ff89-921883fddeb7"
      },
      "source": [
        "# describe() -> summarizing the data\n",
        "\n",
        "print(df.describe())"
      ],
      "execution_count": null,
      "outputs": [
        {
          "output_type": "stream",
          "text": [
            "             Age    Rating\n",
            "count   7.000000  7.000000\n",
            "mean   28.285714  3.918571\n",
            "std     4.644505  0.804828\n",
            "min    23.000000  2.900000\n",
            "25%    25.000000  3.250000\n",
            "50%    26.000000  4.100000\n",
            "75%    32.000000  4.465000\n",
            "max    35.000000  5.000000\n"
          ],
          "name": "stdout"
        }
      ]
    },
    {
      "cell_type": "code",
      "metadata": {
        "colab": {
          "base_uri": "https://localhost:8080/"
        },
        "id": "iJWQZkUIwIMh",
        "outputId": "96cf558e-fe85-480b-92d9-6b91f98649e3"
      },
      "source": [
        "# include object, number, all\n",
        "\n",
        "print(df.describe(include=['object']))"
      ],
      "execution_count": null,
      "outputs": [
        {
          "output_type": "stream",
          "text": [
            "       Name\n",
            "count     7\n",
            "unique    7\n",
            "top       C\n",
            "freq      1\n"
          ],
          "name": "stdout"
        }
      ]
    },
    {
      "cell_type": "code",
      "metadata": {
        "colab": {
          "base_uri": "https://localhost:8080/"
        },
        "id": "wy8RI7avwKU8",
        "outputId": "b2e498ff-5057-420b-c8fd-e14541fc1929"
      },
      "source": [
        "print(df.describe(include=['number']))"
      ],
      "execution_count": null,
      "outputs": [
        {
          "output_type": "stream",
          "text": [
            "             Age    Rating\n",
            "count   7.000000  7.000000\n",
            "mean   28.285714  3.918571\n",
            "std     4.644505  0.804828\n",
            "min    23.000000  2.900000\n",
            "25%    25.000000  3.250000\n",
            "50%    26.000000  4.100000\n",
            "75%    32.000000  4.465000\n",
            "max    35.000000  5.000000\n"
          ],
          "name": "stdout"
        }
      ]
    },
    {
      "cell_type": "code",
      "metadata": {
        "colab": {
          "base_uri": "https://localhost:8080/"
        },
        "id": "cdeLdxSCwME-",
        "outputId": "05bc9a7a-8588-449b-8797-410e6817816e"
      },
      "source": [
        "# Don't pass 'all' as a list\n",
        "\n",
        "print(df.describe(include='all'))"
      ],
      "execution_count": null,
      "outputs": [
        {
          "output_type": "stream",
          "text": [
            "       Name        Age    Rating\n",
            "count     7   7.000000  7.000000\n",
            "unique    7        NaN       NaN\n",
            "top       C        NaN       NaN\n",
            "freq      1        NaN       NaN\n",
            "mean    NaN  28.285714  3.918571\n",
            "std     NaN   4.644505  0.804828\n",
            "min     NaN  23.000000  2.900000\n",
            "25%     NaN  25.000000  3.250000\n",
            "50%     NaN  26.000000  4.100000\n",
            "75%     NaN  32.000000  4.465000\n",
            "max     NaN  35.000000  5.000000\n"
          ],
          "name": "stdout"
        }
      ]
    },
    {
      "cell_type": "code",
      "metadata": {
        "id": "tMcZHVsfwPtw"
      },
      "source": [
        ""
      ],
      "execution_count": null,
      "outputs": []
    }
  ]
}